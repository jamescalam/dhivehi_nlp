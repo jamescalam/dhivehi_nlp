{
 "cells": [
  {
   "cell_type": "code",
   "execution_count": 1,
   "metadata": {},
   "outputs": [],
   "source": [
    "from tokenizers import (\n",
    "    decoders,\n",
    "    models,\n",
    "    normalizers,\n",
    "    pre_tokenizers,\n",
    "    processors,\n",
    "    trainers,\n",
    "    Tokenizer\n",
    ")"
   ]
  },
  {
   "cell_type": "markdown",
   "metadata": {},
   "source": [
    "Initialize a tokenizer instance"
   ]
  },
  {
   "cell_type": "code",
   "execution_count": 2,
   "metadata": {},
   "outputs": [],
   "source": [
    "tokenizer = Tokenizer(models.WordPiece(unk_token='[UNK]'))"
   ]
  },
  {
   "cell_type": "markdown",
   "metadata": {},
   "source": [
    "We need to set the normalization components, which are *convert to lowercase* -> *normalize with NFKC*"
   ]
  },
  {
   "cell_type": "code",
   "execution_count": 3,
   "metadata": {},
   "outputs": [],
   "source": [
    "tokenizer.normalizer = normalizers.Sequence(\n",
    "    [normalizers.Lowercase(), normalizers.NFKD()]\n",
    ")"
   ]
  },
  {
   "cell_type": "markdown",
   "metadata": {},
   "source": [
    "Next we have pretokenization, eg how do we split into words before tokenization? For Dhivehi we want to split on both whitespace and punctuation (a comma isn't part of a word - it's separate). This is a common approach and covered with:"
   ]
  },
  {
   "cell_type": "code",
   "execution_count": 4,
   "metadata": {},
   "outputs": [],
   "source": [
    "tokenizer.pre_tokenizer = pre_tokenizers.Whitespace()"
   ]
  },
  {
   "cell_type": "markdown",
   "metadata": {},
   "source": [
    "Next we train the tokenizer, we've already assigned the WordPiece tokenizer so all we do now is pass Dhivehi text data to the training function, specify any special tokens to include in our vocab (as they will not be found in the training data... Hopefully!), and specify our target vocab size."
   ]
  },
  {
   "cell_type": "code",
   "execution_count": 5,
   "metadata": {},
   "outputs": [],
   "source": [
    "trainer = trainers.WordPieceTrainer(\n",
    "    vocab_size=30_000,\n",
    "    special_tokens=['[UNK]', '[PAD]', '[CLS]', '[SEP]', '[MASK]'],\n",
    "    min_frequency=2,\n",
    "    continuing_subword_prefix='##'\n",
    ")"
   ]
  },
  {
   "cell_type": "markdown",
   "metadata": {},
   "source": [
    "---\n",
    "\n",
    "#### Downloading the Dhivehi Corpus\n",
    "\n",
    "The Dhivehi corpus is hosted at `https://huggingface.co/datasets/ashraq/dhivehi-corpus`, we can download it via `datasets.load_dataset`."
   ]
  },
  {
   "cell_type": "code",
   "execution_count": 6,
   "metadata": {},
   "outputs": [
    {
     "name": "stderr",
     "output_type": "stream",
     "text": [
      "Using custom data configuration train\n"
     ]
    },
    {
     "data": {
      "text/plain": [
       "{'train': <datasets.iterable_dataset.IterableDataset at 0x7fda4a48f5e0>}"
      ]
     },
     "execution_count": 6,
     "metadata": {},
     "output_type": "execute_result"
    }
   ],
   "source": [
    "import datasets\n",
    "\n",
    "dv = datasets.load_dataset(\n",
    "    'ashraq/dhivehi-corpus',\n",
    "    'train',\n",
    "    streaming=True\n",
    ")\n",
    "\n",
    "dv"
   ]
  },
  {
   "cell_type": "code",
   "execution_count": 7,
   "metadata": {},
   "outputs": [
    {
     "data": {
      "text/plain": [
       "<datasets.iterable_dataset.IterableDataset at 0x7fda4a48f5e0>"
      ]
     },
     "execution_count": 7,
     "metadata": {},
     "output_type": "execute_result"
    }
   ],
   "source": [
    "dv['train']"
   ]
  },
  {
   "cell_type": "code",
   "execution_count": 8,
   "metadata": {},
   "outputs": [
    {
     "name": "stdout",
     "output_type": "stream",
     "text": [
      "{'text': 'ފޯނަކާއި ވައިފައި އޮތިއްޔާ ބޭނުން އެއްޗެއް ކީދާނެ ތާއެވެ. އެކަމަކު، ބުރަ މަސައްކަތް ކުރާ ފަރާތްތަކުގެ މަސައްކަތުގެ ޖޯޝު ގެއްލުވާލަން ތިކުރާ ފިޑި އަމަލަކީ ވަރަށްވެސް ނާތަހުޒީބު ކަމެކެވެ. ކަމެއް ނުބައިކޮށް ދާނަމަ އެކަމާ އަޑު އުފުލަން ޖެހެއެވެ. ނަމަވެސް މީސްމީޑިޔާއަކީ މިކަން ކުރާ ހަމައެކަނި ވަސީލަތަކަށްވުމުން، މިކަން \"ކަޑަ\" އެވެ. އަދި އަމަލީ ގޮތުން ކަންތައް ކުރާ މީހުންގެ މަސައްކަތުގެ ކުރި މަރާލަން ތިކުރާ މަސައްކަތް އަދި މާ \"ކަޑަ\"އެވެ.'}\n",
      "{'text': 'ރައީސް އޮފީހުގެ ޕްރެސް ސެކެޓްރީ މަސްއޫދު އިމާދު ވިދާޅުވީ، ނައިބު ރައީސް ވަހީދުއްދީން އިސްތިއުފާދެއްވި ކަމަށް މިހާރު ފެތުރިގެން އުޅޭ ހަބަރަކީ އެއްވެސް ހަގީގަތެއް ނެތް ވާހަކައެއް ކަމަށެވެ.'}\n",
      "{'text': 'އިންދިރާ ގާންދީ މެމޯރިޔަލް ހޮސްޕިޓަލް - ވަގުތު ފޮޓޯ: މާހިލް މުހައްމަދު އަމިއްލަ ކްލިނިކް ތަކުން ދޫކުރާ ބޭސް ސިޓީތައް އައިޖީއެމްއެޗުގެ ބޭސްސިޓީ ތަކަށް ބަދަލު ކުރުން އޮގަސްޓް މަހުން ފެށިގެން ހުއްޓާލަން އެ ހޮސްޕިޓަލުން ނިންމައިފިއެވެ.'}\n"
     ]
    }
   ],
   "source": [
    "count = 0\n",
    "for row in dv['train']:\n",
    "    print(row)\n",
    "    count += 1\n",
    "    if count == 3: break"
   ]
  },
  {
   "cell_type": "markdown",
   "metadata": {},
   "source": [
    "Create a generator that will yield the correct output (eg extract the value in `'text'`)"
   ]
  },
  {
   "cell_type": "code",
   "execution_count": 9,
   "metadata": {},
   "outputs": [],
   "source": [
    "def dv_text():\n",
    "    for row in enumerate(dv['train']):\n",
    "        yield row['text']"
   ]
  },
  {
   "cell_type": "code",
   "execution_count": 10,
   "metadata": {},
   "outputs": [
    {
     "name": "stdout",
     "output_type": "stream",
     "text": [
      "ފޯނަކާއި ވައިފައި އޮތިއްޔާ ބޭނުން އެއްޗެއް ކީދާނެ ތާއެވެ. އެކަމަކު، ބުރަ މަސައްކަތް ކުރާ ފަރާތްތަކުގެ މަސައްކަތުގެ ޖޯޝު ގެއްލުވާލަން ތިކުރާ ފިޑި އަމަލަކީ ވަރަށްވެސް ނާތަހުޒީބު ކަމެކެވެ. ކަމެއް ނުބައިކޮށް ދާނަމަ އެކަމާ އަޑު އުފުލަން ޖެހެއެވެ. ނަމަވެސް މީސްމީޑިޔާއަކީ މިކަން ކުރާ ހަމައެކަނި ވަސީލަތަކަށްވުމުން، މިކަން \"ކަޑަ\" އެވެ. އަދި އަމަލީ ގޮތުން ކަންތައް ކުރާ މީހުންގެ މަސައްކަތުގެ ކުރި މަރާލަން ތިކުރާ މަސައްކަތް އަދި މާ \"ކަޑަ\"އެވެ.\n",
      "ރައީސް އޮފީހުގެ ޕްރެސް ސެކެޓްރީ މަސްއޫދު އިމާދު ވިދާޅުވީ، ނައިބު ރައީސް ވަހީދުއްދީން އިސްތިއުފާދެއްވި ކަމަށް މިހާރު ފެތުރިގެން އުޅޭ ހަބަރަކީ އެއްވެސް ހަގީގަތެއް ނެތް ވާހަކައެއް ކަމަށެވެ.\n",
      "އިންދިރާ ގާންދީ މެމޯރިޔަލް ހޮސްޕިޓަލް - ވަގުތު ފޮޓޯ: މާހިލް މުހައްމަދު އަމިއްލަ ކްލިނިކް ތަކުން ދޫކުރާ ބޭސް ސިޓީތައް އައިޖީއެމްއެޗުގެ ބޭސްސިޓީ ތަކަށް ބަދަލު ކުރުން އޮގަސްޓް މަހުން ފެށިގެން ހުއްޓާލަން އެ ހޮސްޕިޓަލުން ނިންމައިފިއެވެ.\n"
     ]
    }
   ],
   "source": [
    "count = 0\n",
    "for row in dv_text():\n",
    "    print(row)\n",
    "    count += 1\n",
    "    if count == 3: break"
   ]
  },
  {
   "cell_type": "markdown",
   "metadata": {},
   "source": [
    "---"
   ]
  },
  {
   "cell_type": "code",
   "execution_count": 11,
   "metadata": {},
   "outputs": [
    {
     "name": "stdout",
     "output_type": "stream",
     "text": [
      "\n",
      "\n",
      "\n"
     ]
    }
   ],
   "source": [
    "tokenizer.train_from_iterator(dv_text(), trainer=trainer)"
   ]
  },
  {
   "cell_type": "code",
   "execution_count": 12,
   "metadata": {},
   "outputs": [
    {
     "data": {
      "text/plain": [
       "30000"
      ]
     },
     "execution_count": 12,
     "metadata": {},
     "output_type": "execute_result"
    }
   ],
   "source": [
    "tokenizer.get_vocab_size()"
   ]
  },
  {
   "cell_type": "markdown",
   "metadata": {},
   "source": [
    "After training the tokenizer we need to set the post-processing steps, eg add any special tokens. At the start and end of every sequence we add a classifier `[CLS]` token and a seperator `[SEP]` token. We will be adding these using their token IDs which we can find with:"
   ]
  },
  {
   "cell_type": "code",
   "execution_count": 13,
   "metadata": {},
   "outputs": [],
   "source": [
    "cls_id = tokenizer.token_to_id('[CLS]')\n",
    "sep_id = tokenizer.token_to_id('[SEP]')"
   ]
  },
  {
   "cell_type": "markdown",
   "metadata": {},
   "source": [
    "To set the post processing template we use something called the `TemplateProcessing`. This allows us to specify how to deal with both single sentences and sentence pairs (which we will need during NSP pretraining). The first/single sentence is represented by `$A` and the second (for pairs) is represented by `$B`.\n",
    "\n",
    "Our special tokens, `$A`, and `$B` are all followed by an integer value which indicated their token type ID value."
   ]
  },
  {
   "cell_type": "code",
   "execution_count": 14,
   "metadata": {},
   "outputs": [],
   "source": [
    "tokenizer.post_processor = processors.TemplateProcessing(\n",
    "    single=f'[CLS]:0 $A:0 [SEP]:0',\n",
    "    pair=f'[CLS]:0 $A:0 [SEP]:0 $B:1 [SEP]:1',\n",
    "    special_tokens=[\n",
    "        ('[CLS]', cls_id),\n",
    "        ('[SEP]', sep_id)\n",
    "    ]\n",
    ")"
   ]
  },
  {
   "cell_type": "markdown",
   "metadata": {},
   "source": [
    "The final step is to set the `decoder` component of the tokenizer, here we just use the WordPiece tokenizer with the `##` word part prefix specified."
   ]
  },
  {
   "cell_type": "code",
   "execution_count": 15,
   "metadata": {},
   "outputs": [],
   "source": [
    "tokenizer.decoder = decoders.WordPiece(prefix='##')"
   ]
  },
  {
   "cell_type": "markdown",
   "metadata": {},
   "source": [
    "Our tokenizer is now fully prepared, all that's left is to save it. To load the tokenizer with HF transformers we will first need to load our current tokenizer into a transformers fast tokenizer like so:"
   ]
  },
  {
   "cell_type": "code",
   "execution_count": 16,
   "metadata": {},
   "outputs": [],
   "source": [
    "from transformers import PreTrainedTokenizerFast\n",
    "\n",
    "full_tokenizer = PreTrainedTokenizerFast(\n",
    "    tokenizer_object=tokenizer,\n",
    "    unk_token='[UNK]',\n",
    "    pad_token='[PAD]',\n",
    "    cls_token='[CLS]',\n",
    "    sep_token='[SEP]',\n",
    "    mask_token='[MASK]'\n",
    ")"
   ]
  },
  {
   "cell_type": "markdown",
   "metadata": {},
   "source": [
    "*(Fast tokenizers are faster than the usual tokenizers because they are implemented in Rust)*"
   ]
  },
  {
   "cell_type": "code",
   "execution_count": 17,
   "metadata": {},
   "outputs": [
    {
     "data": {
      "text/plain": [
       "('bert-base-dv/tokenizer_config.json',\n",
       " 'bert-base-dv/special_tokens_map.json',\n",
       " 'bert-base-dv/tokenizer.json')"
      ]
     },
     "execution_count": 17,
     "metadata": {},
     "output_type": "execute_result"
    }
   ],
   "source": [
    "full_tokenizer.save_pretrained('bert-base-dv')"
   ]
  },
  {
   "cell_type": "code",
   "execution_count": 18,
   "metadata": {},
   "outputs": [],
   "source": [
    "tokenizer = PreTrainedTokenizerFast.from_pretrained('bert-base-dv')"
   ]
  },
  {
   "cell_type": "code",
   "execution_count": 19,
   "metadata": {},
   "outputs": [
    {
     "data": {
      "text/plain": [
       "{'input_ids': [2, 9, 2290, 134, 1605, 4076, 842, 1480, 9, 1186, 314, 10, 321, 2209, 1771, 212, 781, 2287, 123, 823, 4381, 832, 674, 934, 3412, 3], 'token_type_ids': [0, 0, 0, 0, 0, 0, 0, 0, 0, 0, 0, 0, 0, 0, 0, 0, 0, 0, 0, 0, 0, 0, 0, 0, 0, 0], 'attention_mask': [1, 1, 1, 1, 1, 1, 1, 1, 1, 1, 1, 1, 1, 1, 1, 1, 1, 1, 1, 1, 1, 1, 1, 1, 1, 1]}"
      ]
     },
     "execution_count": 19,
     "metadata": {},
     "output_type": "execute_result"
    }
   ],
   "source": [
    "tokenizer(\"(ސެންޓޭ)، ނާއިޒް ހަސަން (ދާދު) އަދި ހުސައިން ނިހާންގެ އިތުރުން ސަމްދޫހު މުހައްމަދު ހިމަނާފައިވެއެވެ\")"
   ]
  },
  {
   "cell_type": "markdown",
   "metadata": {},
   "source": [
    "And we're done, our tokenizer is ready."
   ]
  }
 ],
 "metadata": {
  "interpreter": {
   "hash": "5188bc372fa413aa2565ae5d28228f50ad7b2c4ebb4a82c5900fd598adbb6408"
  },
  "kernelspec": {
   "display_name": "Python 3.8.8 64-bit ('ml': conda)",
   "language": "python",
   "name": "python3"
  },
  "language_info": {
   "codemirror_mode": {
    "name": "ipython",
    "version": 3
   },
   "file_extension": ".py",
   "mimetype": "text/x-python",
   "name": "python",
   "nbconvert_exporter": "python",
   "pygments_lexer": "ipython3",
   "version": "3.8.8"
  },
  "orig_nbformat": 4
 },
 "nbformat": 4,
 "nbformat_minor": 2
}
